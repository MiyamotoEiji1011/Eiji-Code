{
 "cells": [
  {
   "cell_type": "code",
   "execution_count": 1,
   "metadata": {},
   "outputs": [
    {
     "name": "stdout",
     "output_type": "stream",
     "text": [
      "オフセット\n",
      "オフセット\n",
      "モーターセット\n",
      "サーボセット\n",
      "アラームセット\n",
      "アラームをセット\n",
      "サーブ せ\n",
      "サーボセット\n",
      "オフセット\n",
      "モーターセット\n",
      "セット\n",
      "うん\n"
     ]
    },
    {
     "ename": "KeyboardInterrupt",
     "evalue": "",
     "output_type": "error",
     "traceback": [
      "\u001b[1;31m---------------------------------------------------------------------------\u001b[0m",
      "\u001b[1;31mKeyboardInterrupt\u001b[0m                         Traceback (most recent call last)",
      "Cell \u001b[1;32mIn[1], line 43\u001b[0m\n\u001b[0;32m     38\u001b[0m     audio\u001b[38;5;241m.\u001b[39mterminate()\n\u001b[0;32m     42\u001b[0m \u001b[38;5;28;01mif\u001b[39;00m \u001b[38;5;18m__name__\u001b[39m \u001b[38;5;241m==\u001b[39m \u001b[38;5;124m'\u001b[39m\u001b[38;5;124m__main__\u001b[39m\u001b[38;5;124m'\u001b[39m:\n\u001b[1;32m---> 43\u001b[0m     \u001b[43mmain\u001b[49m\u001b[43m(\u001b[49m\u001b[43m)\u001b[49m\n",
      "Cell \u001b[1;32mIn[1], line 34\u001b[0m, in \u001b[0;36mmain\u001b[1;34m()\u001b[0m\n\u001b[0;32m     32\u001b[0m stream\u001b[38;5;241m.\u001b[39mstart_stream()\n\u001b[0;32m     33\u001b[0m \u001b[38;5;28;01mwhile\u001b[39;00m stream\u001b[38;5;241m.\u001b[39mis_active():\n\u001b[1;32m---> 34\u001b[0m     \u001b[43mtime\u001b[49m\u001b[38;5;241;43m.\u001b[39;49m\u001b[43msleep\u001b[49m\u001b[43m(\u001b[49m\u001b[38;5;241;43m0.1\u001b[39;49m\u001b[43m)\u001b[49m\n\u001b[0;32m     36\u001b[0m stream\u001b[38;5;241m.\u001b[39mstop_stream()\n\u001b[0;32m     37\u001b[0m stream\u001b[38;5;241m.\u001b[39mclose()\n",
      "\u001b[1;31mKeyboardInterrupt\u001b[0m: "
     ]
    },
    {
     "name": "stdout",
     "output_type": "stream",
     "text": [
      "スピード\n",
      "ドットパイ\n"
     ]
    }
   ],
   "source": [
    "import time\n",
    "import speech_recognition\n",
    "import pyaudio\n",
    "\n",
    "SAMPLERATE = 44100\n",
    "\n",
    "def callback(in_data, frame_count, time_info, status):\n",
    "    global sprec \n",
    "    try:\n",
    "        audiodata = speech_recognition.AudioData(in_data,SAMPLERATE,2)\n",
    "        sprec_text = sprec.recognize_google(audiodata, language='ja-JP')\n",
    "        print(sprec_text)\n",
    "    except speech_recognition.UnknownValueError:\n",
    "        pass\n",
    "    except speech_recognition.RequestError as e:\n",
    "        pass\n",
    "    finally:\n",
    "        return (None, pyaudio.paContinue)\n",
    "    \n",
    "def main():\n",
    "    global sprec \n",
    "    sprec = speech_recognition.Recognizer()  # インスタンスを生成\n",
    "    # Audio インスタンス取得\n",
    "    audio = pyaudio.PyAudio() \n",
    "    stream = audio.open( format = pyaudio.paInt16,\n",
    "                        rate = SAMPLERATE,\n",
    "                        channels = 1, \n",
    "                        input_device_index = 1,\n",
    "                        input = True, \n",
    "                        frames_per_buffer = SAMPLERATE*2, # 2秒周期でコールバック\n",
    "                        stream_callback=callback)\n",
    "    stream.start_stream()\n",
    "    while stream.is_active():\n",
    "        time.sleep(0.1)\n",
    "    \n",
    "    stream.stop_stream()\n",
    "    stream.close()\n",
    "    audio.terminate()\n",
    "    \n",
    "\n",
    "    \n",
    "if __name__ == '__main__':\n",
    "    main()"
   ]
  },
  {
   "cell_type": "markdown",
   "metadata": {},
   "source": []
  },
  {
   "cell_type": "code",
   "execution_count": 1,
   "metadata": {},
   "outputs": [
    {
     "name": "stdout",
     "output_type": "stream",
     "text": [
      "Start\n",
      "オフセット\n",
      "END\n"
     ]
    }
   ],
   "source": [
    "import time\n",
    "import speech_recognition\n",
    "import pyaudio\n",
    "\n",
    "SAMPLERATE = 44100\n",
    "\n",
    "def callback(in_data, frame_count, time_info, status):\n",
    "    global sprec, TARGET_WORD\n",
    "    try:\n",
    "        audiodata = speech_recognition.AudioData(in_data, SAMPLERATE, 2)\n",
    "        sprec_text = sprec.recognize_google(audiodata, language='ja-JP')\n",
    "        print(sprec_text)\n",
    "        \n",
    "        # 特定の言葉が言われたら終了\n",
    "        if TARGET_WORD in sprec_text:\n",
    "            global stream\n",
    "            stream.stop_stream()\n",
    "            stream.close()\n",
    "            global audio\n",
    "            audio.terminate()\n",
    "\n",
    "    except speech_recognition.UnknownValueError:\n",
    "        pass\n",
    "    except speech_recognition.RequestError as e:\n",
    "        pass\n",
    "    finally:\n",
    "        return (None, pyaudio.paContinue)\n",
    "\n",
    "def start_listening(target_word):\n",
    "    global sprec, audio, stream, TARGET_WORD\n",
    "    TARGET_WORD = target_word\n",
    "    \n",
    "    sprec = speech_recognition.Recognizer()  # インスタンスを生成\n",
    "    audio = pyaudio.PyAudio() \n",
    "    stream = audio.open( format = pyaudio.paInt16,\n",
    "                        rate = SAMPLERATE,\n",
    "                        channels = 1, \n",
    "                        input_device_index = 1,\n",
    "                        input = True, \n",
    "                        frames_per_buffer = SAMPLERATE*2, # 2秒周期でコールバック\n",
    "                        stream_callback=callback)\n",
    "    stream.start_stream()\n",
    "\n",
    "    try:\n",
    "        while stream.is_active():\n",
    "            time.sleep(0.1)\n",
    "    except KeyboardInterrupt:\n",
    "        pass  # Ctrl+C が押されたら無視\n",
    "\n",
    "    stream.stop_stream()\n",
    "    stream.close()\n",
    "    audio.terminate()\n",
    "\n",
    "print(\"Start\")\n",
    "start_listening(\"オフセット\")\n",
    "print(\"END\")\n"
   ]
  }
 ],
 "metadata": {
  "kernelspec": {
   "display_name": "Python 3",
   "language": "python",
   "name": "python3"
  },
  "language_info": {
   "codemirror_mode": {
    "name": "ipython",
    "version": 3
   },
   "file_extension": ".py",
   "mimetype": "text/x-python",
   "name": "python",
   "nbconvert_exporter": "python",
   "pygments_lexer": "ipython3",
   "version": "3.11.7"
  }
 },
 "nbformat": 4,
 "nbformat_minor": 2
}
